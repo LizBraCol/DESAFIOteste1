{
  "nbformat": 4,
  "nbformat_minor": 0,
  "metadata": {
    "colab": {
      "provenance": [],
      "include_colab_link": true
    },
    "kernelspec": {
      "name": "python3",
      "display_name": "Python 3"
    },
    "language_info": {
      "name": "python"
    }
  },
  "cells": [
    {
      "cell_type": "markdown",
      "metadata": {
        "id": "view-in-github",
        "colab_type": "text"
      },
      "source": [
        "<a href=\"https://colab.research.google.com/github/LizBraCol/DESAFIOteste1/blob/master/Projeto_de_Imers%C3%A3o_IA_Alura_%2B_Google_Gemini.ipynb\" target=\"_parent\"><img src=\"https://colab.research.google.com/assets/colab-badge.svg\" alt=\"Open In Colab\"/></a>"
      ]
    },
    {
      "cell_type": "code",
      "source": [
        "import pandas as pd\n",
        "\n",
        "# Lista para armazenar informações dos tutores\n",
        "tutores = []\n",
        "\n",
        "# DataFrame para armazenar informações de pets perdidos\n",
        "pets_perdidos_df = pd.DataFrame(columns=['id', 'nome', 'raca', 'porte', 'local_perdido', 'data_perdida', 'foto_url', 'contato_tutor'])\n",
        "\n",
        "# DataFrame para armazenar informações de pets encontrados\n",
        "pets_encontrados_df = pd.DataFrame(columns=['id', 'local_encontrado', 'data_encontrada', 'foto_url', 'descricao', 'contato_encontrador'])\n",
        "\n",
        "# Contador simples para IDs\n",
        "pet_perdido_id_counter = 1\n",
        "pet_encontrado_id_counter = 1"
      ],
      "metadata": {
        "id": "KNXBE6hQqxoC"
      },
      "execution_count": null,
      "outputs": []
    },
    {
      "cell_type": "code",
      "source": [
        "def registrar_tutor(nome, email, telefone):\n",
        "    tutor = {'nome': nome, 'email': email, 'telefone': telefone}\n",
        "    tutores.append(tutor)\n",
        "    print(f\"Tutor {nome} registrado com sucesso!\")"
      ],
      "metadata": {
        "id": "MyuvfkDwrAUe"
      },
      "execution_count": null,
      "outputs": []
    },
    {
      "cell_type": "code",
      "source": [
        "def reportar_pet_perdido(nome, raca, porte, local_perdido, data_perdida, foto_url, contato_tutor):\n",
        "    global pet_perdido_id_counter\n",
        "    novo_pet = {'id': pet_perdido_id_counter, 'nome': nome, 'raca': raca, 'porte': porte,\n",
        "                'local_perdido': local_perdido, 'data_perdida': data_perdida,\n",
        "                'foto_url': foto_url, 'contato_tutor': contato_tutor}\n",
        "    global pets_perdidos_df\n",
        "    pets_perdidos_df = pd.concat([pets_perdidos_df, pd.DataFrame([novo_pet])], ignore_index=True)\n",
        "    print(f\"Pet perdido registrado com ID: {pet_perdido_id_counter}\")\n",
        "    pet_perdido_id_counter += 1\n",
        "    # Aqui você chamaria a função de alerta para vizinhos (a ser implementada)\n",
        "    alertar_vizinhos(local_perdido, novo_pet)"
      ],
      "metadata": {
        "id": "je_SPQCBrFDN"
      },
      "execution_count": null,
      "outputs": []
    },
    {
      "cell_type": "code",
      "source": [
        "def reportar_pet_encontrado(local_encontrado, data_encontrada, foto_url, descricao, contato_encontrador):\n",
        "    global pet_encontrado_id_counter\n",
        "    novo_pet_encontrado = {'id': pet_encontrado_id_counter, 'local_encontrado': local_encontrado,\n",
        "                             'data_encontrada': data_encontrada, 'foto_url': foto_url,\n",
        "                             'descricao': descricao, 'contato_encontrador': contato_encontrador}\n",
        "    global pets_encontrados_df\n",
        "    pets_encontrados_df = pd.concat([pets_encontrados_df, pd.DataFrame([novo_pet_encontrado])], ignore_index=True)\n",
        "    print(f\"Pet encontrado registrado com ID: {pet_encontrado_id_counter}\")\n",
        "    pet_encontrado_id_counter += 1\n",
        "    # Aqui você chamaria a função de verificar correspondências (a ser implementada)\n",
        "    verificar_correspondencias(novo_pet_encontrado)"
      ],
      "metadata": {
        "id": "Vk0fzuPHrJkW"
      },
      "execution_count": null,
      "outputs": []
    },
    {
      "cell_type": "code",
      "source": [
        "def alertar_vizinhos(local_perdido, pet_perdido):\n",
        "    # Nesta versão simplificada, vamos apenas imprimir uma mensagem.\n",
        "    # Em um cenário real, você integraria com um sistema de envio de notificações\n",
        "    print(f\"\\nALERTA: Pet perdido na região de {local_perdido}!\")\n",
        "    print(f\"Nome: {pet_perdido['nome']}, Raça: {pet_perdido['raca']}, Porte: {pet_perdido['porte']}\")\n",
        "    print(f\"Contato do tutor: {pet_perdido['contato_tutor']}\")\n",
        "    # Você poderia adicionar lógica para simular o envio para vizinhos cadastrados\n",
        "    # que estejam dentro de um raio da 'local_perdido'."
      ],
      "metadata": {
        "id": "3kE-1E25rOWj"
      },
      "execution_count": null,
      "outputs": []
    },
    {
      "cell_type": "code",
      "source": [
        "def verificar_correspondencias(pet_encontrado):\n",
        "    global pets_perdidos_df\n",
        "    possiveis_matches = pets_perdidos_df[\n",
        "        (pets_perdidos_df['raca'] == pet_encontrado.get('descricao', '').split()[0] if pet_encontrado.get('descricao') else False) |\n",
        "        (pets_perdidos_df['porte'] == pet_encontrado.get('descricao', '').split()[-1] if pet_encontrado.get('descricao') else False) |\n",
        "        (pets_perdidos_df['local_perdido'].str.contains(pet_encontrado['local_encontrado'], case=False)) # Busca por similaridade na localização\n",
        "    ]\n",
        "\n",
        "    if not possiveis_matches.empty:\n",
        "        print(\"\\nPossíveis correspondências encontradas:\")\n",
        "        for index, pet_perdido in possiveis_matches.iterrows():\n",
        "            print(f\"  ID Perdido: {pet_perdido['id']}, Nome: {pet_perdido['nome']}, Tutor: {pet_perdido['contato_tutor']}\")\n",
        "            print(f\"  Contato de quem encontrou: {pet_encontrado['contato_encontrador']}\")\n",
        "            # Em um sistema real, você poderia enviar notificações diretas aos envolvidos.\n",
        "    else:\n",
        "        print(\"\\nNenhuma correspondência imediata encontrada para este pet encontrado.\")"
      ],
      "metadata": {
        "id": "_ZWVBGo5t0fH"
      },
      "execution_count": null,
      "outputs": []
    },
    {
      "cell_type": "code",
      "source": [
        "# Simulação de um tutor registrando seu pet\n",
        "registrar_tutor(\"Ana Silva\", \"ana.silva@email.com\", \"11 99999-8888\")\n",
        "reportar_pet_perdido(\"Rex\", \"Golden Retriever\", \"Grande\", \"Rua das Flores, 123\", \"2025-05-17\", \"url_rex.jpg\", \"Ana Silva (11 99999-8888)\")\n",
        "\n",
        "# Simulação de alguém encontrando um pet\n",
        "reportar_pet_encontrado(\"Parque Central\", \"2025-05-17\", \"url_achado.jpg\", \"Cachorro caramelo, porte médio, parece assustado.\", \"Carlos Oliveira (11 88888-7777)\")\n",
        "\n",
        "# Exibir os DataFrames para ver os dados\n",
        "print(\"\\n--- Pets Perdidos ---\")\n",
        "print(pets_perdidos_df)\n",
        "print(\"\\n--- Pets Encontrados ---\")\n",
        "print(pets_encontrados_df)"
      ],
      "metadata": {
        "id": "X6iP_1WSt2eD",
        "outputId": "ccab786c-a396-404a-bbf6-5d0bef91a9df",
        "colab": {
          "base_uri": "https://localhost:8080/"
        }
      },
      "execution_count": null,
      "outputs": [
        {
          "output_type": "stream",
          "name": "stdout",
          "text": [
            "Tutor Ana Silva registrado com sucesso!\n",
            "Pet perdido registrado com ID: 1\n",
            "\n",
            "ALERTA: Pet perdido na região de Rua das Flores, 123!\n",
            "Nome: Rex, Raça: Golden Retriever, Porte: Grande\n",
            "Contato do tutor: Ana Silva (11 99999-8888)\n",
            "Pet encontrado registrado com ID: 1\n",
            "\n",
            "Nenhuma correspondência imediata encontrada para este pet encontrado.\n",
            "\n",
            "--- Pets Perdidos ---\n",
            "  id nome              raca   porte        local_perdido data_perdida  \\\n",
            "0  1  Rex  Golden Retriever  Grande  Rua das Flores, 123   2025-05-17   \n",
            "\n",
            "      foto_url              contato_tutor  \n",
            "0  url_rex.jpg  Ana Silva (11 99999-8888)  \n",
            "\n",
            "--- Pets Encontrados ---\n",
            "  id local_encontrado data_encontrada        foto_url  \\\n",
            "0  1   Parque Central      2025-05-17  url_achado.jpg   \n",
            "\n",
            "                                           descricao  \\\n",
            "0  Cachorro caramelo, porte médio, parece assustado.   \n",
            "\n",
            "               contato_encontrador  \n",
            "0  Carlos Oliveira (11 88888-7777)  \n"
          ]
        }
      ]
    }
  ]
}